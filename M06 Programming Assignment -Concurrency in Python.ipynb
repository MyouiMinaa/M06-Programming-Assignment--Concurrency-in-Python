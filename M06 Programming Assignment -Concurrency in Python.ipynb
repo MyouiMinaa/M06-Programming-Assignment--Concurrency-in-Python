{
 "cells": [
  {
   "cell_type": "code",
   "execution_count": 1,
   "id": "461fc93a-8c9e-4511-9865-542518a21c7c",
   "metadata": {},
   "outputs": [
    {
     "name": "stdout",
     "output_type": "stream",
     "text": [
      "Stringed to today.txt\n"
     ]
    }
   ],
   "source": [
    "date_string = \"July 8, 2024\"\n",
    "\n",
    "with open(\"today.txt\", \"w\") as file:\n",
    "    file.write(date_string)\n",
    "\n",
    "print(\"Stringed to today.txt\")\n"
   ]
  },
  {
   "cell_type": "code",
   "execution_count": 3,
   "id": "8bdc4433-8072-4bfa-97a2-ea563784db59",
   "metadata": {},
   "outputs": [
    {
     "name": "stdout",
     "output_type": "stream",
     "text": [
      "Todays Date: July 8, 2024\n"
     ]
    }
   ],
   "source": [
    "with open(\"today.txt\", \"r\") as file:\n",
    "    today_string = file.read()\n",
    "\n",
    "print(\"Todays Date:\", today_string)"
   ]
  },
  {
   "cell_type": "code",
   "execution_count": 5,
   "id": "4cf49f0d-93d0-40ad-bdb5-830fdb025c78",
   "metadata": {},
   "outputs": [
    {
     "name": "stdout",
     "output_type": "stream",
     "text": [
      "Year: 2024\n",
      "Month: July\n",
      "Day: 8\n"
     ]
    }
   ],
   "source": [
    "today_string = \"July 8, 2024\"\n",
    "month, day, year = today_string.replace(\",\", \"\").split()\n",
    "day = int(day)\n",
    "year = int(year)\n",
    "\n",
    "print(f\"Year: {year}\")\n",
    "print(f\"Month: {month}\")\n",
    "print(f\"Day: {day}\")"
   ]
  },
  {
   "cell_type": "code",
   "execution_count": 13,
   "id": "41ccacf7-a1d6-401d-9638-737bdef62bea",
   "metadata": {},
   "outputs": [
    {
     "name": "stdout",
     "output_type": "stream",
     "text": [
      "Done\n"
     ]
    },
    {
     "name": "stderr",
     "output_type": "stream",
     "text": [
      "Traceback (most recent call last):\n",
      "  File \"<string>\", line 1, in <module>\n",
      "  File \"/opt/anaconda3/lib/python3.11/multiprocessing/spawn.py\", line 122, in spawn_main\n",
      "    exitcode = _main(fd, parent_sentinel)\n",
      "               ^^^^^^^^^^^^^^^^^^^^^^^^^^\n",
      "  File \"/opt/anaconda3/lib/python3.11/multiprocessing/spawn.py\", line 132, in _main\n",
      "    self = reduction.pickle.load(from_parent)\n",
      "           ^^^^^^^^^^^^^^^^^^^^^^^^^^^^^^^^^^\n",
      "AttributeError: Can't get attribute 'worker' on <module '__main__' (built-in)>\n",
      "Traceback (most recent call last):\n",
      "  File \"<string>\", line 1, in <module>\n",
      "  File \"/opt/anaconda3/lib/python3.11/multiprocessing/spawn.py\", line 122, in spawn_main\n",
      "    exitcode = _main(fd, parent_sentinel)\n",
      "               ^^^^^^^^^^^^^^^^^^^^^^^^^^\n",
      "  File \"/opt/anaconda3/lib/python3.11/multiprocessing/spawn.py\", line 132, in _main\n",
      "    self = reduction.pickle.load(from_parent)\n",
      "           ^^^^^^^^^^^^^^^^^^^^^^^^^^^^^^^^^^\n",
      "AttributeError: Can't get attribute 'worker' on <module '__main__' (built-in)>\n",
      "Traceback (most recent call last):\n",
      "  File \"<string>\", line 1, in <module>\n",
      "  File \"/opt/anaconda3/lib/python3.11/multiprocessing/spawn.py\", line 122, in spawn_main\n",
      "    exitcode = _main(fd, parent_sentinel)\n",
      "               ^^^^^^^^^^^^^^^^^^^^^^^^^^\n",
      "  File \"/opt/anaconda3/lib/python3.11/multiprocessing/spawn.py\", line 132, in _main\n",
      "    self = reduction.pickle.load(from_parent)\n",
      "           ^^^^^^^^^^^^^^^^^^^^^^^^^^^^^^^^^^\n",
      "AttributeError: Can't get attribute 'worker' on <module '__main__' (built-in)>\n"
     ]
    }
   ],
   "source": [
    "import multiprocessing\n",
    "import time\n",
    "import random\n",
    "from datetime import datetime\n",
    "\n",
    "def worker():\n",
    "    wait_time = random.random()\n",
    "    time.sleep(wait_time)\n",
    "    print(f\"{multiprocessing.current_process().name} waited {wait_time:.2f}s - Time: {datetime.now()}\")\n",
    "\n",
    "def main():\n",
    "    processes = [multiprocessing.Process(target=worker, name=f\"P{i}\") for i in range(1, 4)]\n",
    "    \n",
    "    for p in processes:\n",
    "        p.start()\n",
    "    \n",
    "    for p in processes:\n",
    "        p.join()\n",
    "    \n",
    "    print(\"Done\")\n",
    "\n",
    "if __name__ == \"__main__\":\n",
    "    multiprocessing.freeze_support()  # This line helps with some environments\n",
    "    main()"
   ]
  },
  {
   "cell_type": "code",
   "execution_count": null,
   "id": "8f5386ab-9a6e-4036-8df9-3698cabdcca3",
   "metadata": {},
   "outputs": [],
   "source": []
  }
 ],
 "metadata": {
  "kernelspec": {
   "display_name": "Python 3 (ipykernel)",
   "language": "python",
   "name": "python3"
  },
  "language_info": {
   "codemirror_mode": {
    "name": "ipython",
    "version": 3
   },
   "file_extension": ".py",
   "mimetype": "text/x-python",
   "name": "python",
   "nbconvert_exporter": "python",
   "pygments_lexer": "ipython3",
   "version": "3.11.7"
  }
 },
 "nbformat": 4,
 "nbformat_minor": 5
}
